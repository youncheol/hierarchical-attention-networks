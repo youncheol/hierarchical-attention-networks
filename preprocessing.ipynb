{
 "cells": [
  {
   "cell_type": "markdown",
   "metadata": {},
   "source": [
    "# Yelp 2018 데이터 전처리"
   ]
  },
  {
   "cell_type": "code",
   "execution_count": 2,
   "metadata": {
    "collapsed": true
   },
   "outputs": [],
   "source": [
    "import re\n",
    "import json\n",
    "import sys\n",
    "import pickle\n",
    "import numpy as np\n",
    "from collections import defaultdict\n",
    "\n",
    "from nltk import sent_tokenize\n",
    "from nltk import word_tokenize\n",
    "from nltk.stem import PorterStemmer\n",
    "from nltk.corpus import stopwords\n",
    "from contractions import contraction_map\n",
    "from stopwords import stopwords\n",
    "\n",
    "ps = PorterStemmer()"
   ]
  },
  {
   "cell_type": "markdown",
   "metadata": {},
   "source": [
    "* 문장, 단어 토크나이징\n",
    "* 줄임말 복원\n",
    "* 특수문자 제거\n",
    "* 스테밍"
   ]
  },
  {
   "cell_type": "code",
   "execution_count": 2,
   "metadata": {
    "collapsed": true
   },
   "outputs": [],
   "source": [
    "def sentence_tokenizer(document):\n",
    "    return [sentence.lower() for sentence in sent_tokenize(document)]\n",
    "\n",
    "\n",
    "def expand_contractions(sentence, contraction_mapping):\n",
    "    contractions_pattern = re.compile(\"({})\".format(\"|\".join(contraction_map.keys())))\n",
    "    \n",
    "    def expand_match(contraction):\n",
    "        match = contraction.group(0)\n",
    "        expanded_contraction = contraction_mapping.get(match)\n",
    "        return expanded_contraction\n",
    "    \n",
    "    expanded_sentence = contractions_pattern.sub(expand_match, sentence)\n",
    "    \n",
    "    return expanded_sentence\n",
    "\n",
    "\n",
    "def remove_special_character(sentence_list):\n",
    "    char_pattern = re.compile(\"[^a-zA-Z0-9 ]\")\n",
    "    num_pattern = re.compile(\"[0-9]+\")\n",
    "    return [num_pattern.sub(\"NUM\", char_pattern.sub(\"\", sentence)) for sentence in sentence_list]\n",
    "\n",
    "\n",
    "def tokenize_and_stemming(sentence):\n",
    "    tokenized_sentence = word_tokenize(sentence)\n",
    "    return [ps.stem(token) for token in tokenized_sentence if token not in stopwords]\n",
    "\n",
    "\n",
    "dataset = open(\"dataset/review.json\")\n",
    "\n",
    "documents = []\n",
    "num = 1\n",
    "review_num = 1000000\n",
    "\n",
    "for data in dataset:\n",
    "    if num > review_num:\n",
    "        break\n",
    "        \n",
    "    review = json.loads(data)    \n",
    "    stars = review[\"stars\"]\n",
    "    document = review[\"text\"]\n",
    "    expanded_sents = [expand_contractions(sentence, contraction_map) for sentence in sentence_tokenizer(document)]\n",
    "    sentence_list = remove_special_character(expanded_sents)\n",
    "    documents.append([stars] + [tokenize_and_stemming(sentence) for sentence in sentence_list])\n",
    "    \n",
    "    num += 1\n",
    "\n",
    "    if (num > 0) and (num % 100 == 0):\n",
    "        sys.stdout.write(\"\\rProcessing... %d/%d\" % (num, review_num))\n",
    "\n",
    "print(\"\\rDone. Number of documents: %d\" % (len(documents)))\n",
    "dataset.close()"
   ]
  },
  {
   "cell_type": "markdown",
   "metadata": {},
   "source": [
    "* 토크나이징 된 단어 개수 카운트\n",
    "* 5번 이하로 발생한 단어는 \"UNK\"로 대체"
   ]
  },
  {
   "cell_type": "code",
   "execution_count": null,
   "metadata": {
    "collapsed": true
   },
   "outputs": [],
   "source": [
    "word_count = defaultdict(lambda: 0)\n",
    "\n",
    "for document in documents:\n",
    "    for sentence in document[1:]:\n",
    "        for word in sentence:\n",
    "            word_count[word] += 1\n",
    "\n",
    "cleaned_documents = []\n",
    "\n",
    "for document in documents:\n",
    "    sentence_list = []\n",
    "    for sentence in document[1:]:\n",
    "        sentence_list.append([\"UNK\" if word_count[word] < 5 else word for word in sentence])\n",
    "    cleaned_documents.append([document[0]] + sentence_list)\n",
    "\n",
    "with open(\"cleaned_documents\", \"wb\") as f:\n",
    "    pickle.dump(cleaned_document, f)"
   ]
  },
  {
   "cell_type": "markdown",
   "metadata": {},
   "source": [
    "* 단어와 숫자를 일대일 대응시키는 딕셔너리 생성"
   ]
  },
  {
   "cell_type": "code",
   "execution_count": null,
   "metadata": {},
   "outputs": [],
   "source": [
    "vocab_map = defaultdict(lambda: 0)\n",
    "\n",
    "num = 0\n",
    "\n",
    "for document in unk_documents:\n",
    "    for sentence in document[1:]:\n",
    "        for word in sentence:\n",
    "            if not vocab_map[word]:\n",
    "                vocab_map[word] = num\n",
    "                num += 1"
   ]
  },
  {
   "cell_type": "markdown",
   "metadata": {},
   "source": [
    "* 단어를 정수로 변환하여 ndarray로 생성"
   ]
  },
  {
   "cell_type": "code",
   "execution_count": 17,
   "metadata": {
    "collapsed": true
   },
   "outputs": [],
   "source": [
    "def make_dataset(inputs, max_sent_num, max_word_num):\n",
    "    array = np.array(inputs)\n",
    "    np.random.shuffle(array)\n",
    "    \n",
    "    idx = int(len(array) * 0.1)\n",
    "    \n",
    "    train = array[idx*2:].copy()\n",
    "    valid = array[:idx].copy()\n",
    "    test = array[idx:idx*2].copy()\n",
    "    \n",
    "    def make_array(data, max_sent_num, max_word_num):\n",
    "        label = []\n",
    "        array = np.zeros((len(data), max_sent_num, max_word_num), dtype='int32')\n",
    "        for i, doc in enumerate(data):\n",
    "            label.append(doc[0])\n",
    "            for j, sent in enumerate(doc[1:]):\n",
    "                if j < max_sent_num:\n",
    "                    for k, word in enumerate(sent):\n",
    "                        if k < max_word_num:\n",
    "                            array[i, j, k] = vocab_map[word]\n",
    "        return array, label\n",
    "    \n",
    "    train_data, train_label = make_array(train, max_sent_num, max_word_num)\n",
    "    valid_data, valid_label = make_array(valid, max_sent_num, max_word_num)\n",
    "    test_data, test_label = make_array(test, max_sent_num, max_word_num)\n",
    "    \n",
    "    return train_data, valid_data, test_data, train_label, valid_label, test_label\n",
    "\n",
    "max_sent_num = 20\n",
    "max_word_num = 20\n",
    "\n",
    "train_data, valid_data, test_data, train_label, valid_label, test_label = make_dataset(unk_documents, max_sent_num, max_word_num)"
   ]
  },
  {
   "cell_type": "markdown",
   "metadata": {},
   "source": [
    "* ndarray를 TFRecord로 저장"
   ]
  },
  {
   "cell_type": "code",
   "execution_count": null,
   "metadata": {},
   "outputs": [],
   "source": [
    "import tensorflow as tf\n",
    "from sklearn.preprocessing import LabelBinarizer\n",
    "\n",
    "label = [1, 2, 3, 4, 5]\n",
    "\n",
    "lb = LabelBinarizer().fit(label)\n",
    "\n",
    "def make_tfrecord(fname, array, label):\n",
    "    def int64_feature(value):\n",
    "        return tf.train.Feature(int64_list=tf.train.Int64List(value=value))\n",
    "    writer = tf.python_io.TFRecordWriter(fname)\n",
    "    \n",
    "    data_cnt = len(label)\n",
    "    \n",
    "    for i, data in enumerate(zip(array, label)):\n",
    "        encoded_label = lb.transform([data[1]])[0]\n",
    "        feature = {\n",
    "            'document': int64_feature(data[0].flatten()),\n",
    "            'label': int64_feature(encoded_label)\n",
    "        }\n",
    "        features = tf.train.Features(feature=feature)\n",
    "        example = tf.train.Example(features=features)\n",
    "        writer.write(example.SerializeToString())\n",
    "        \n",
    "        if (i > 0) and (i % 100 == 0):\n",
    "            sys.stdout.write(\"\\rProcessing... %d/%d\" % (i, data_cnt))\n",
    "            \n",
    "    print(\"\\rComplete.\")\n",
    "    writer.close()\n",
    "\n",
    "make_tfrecord(\"train.tfrecord\", train_data, train_label)\n",
    "make_tfrecord(\"valid.tfrecord\", valid_data, valid_label)\n",
    "make_tfrecord(\"test.tfrecord\", test_data, test_label)"
   ]
  }
 ],
 "metadata": {
  "kernelspec": {
   "display_name": "Python 3",
   "language": "python",
   "name": "python3"
  },
  "language_info": {
   "codemirror_mode": {
    "name": "ipython",
    "version": 3
   },
   "file_extension": ".py",
   "mimetype": "text/x-python",
   "name": "python",
   "nbconvert_exporter": "python",
   "pygments_lexer": "ipython3",
   "version": "3.6.3"
  }
 },
 "nbformat": 4,
 "nbformat_minor": 2
}
