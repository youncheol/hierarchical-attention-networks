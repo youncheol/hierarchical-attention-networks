{
 "cells": [
  {
   "cell_type": "code",
   "execution_count": 1,
   "metadata": {
    "collapsed": true
   },
   "outputs": [],
   "source": [
    "import json\n",
    "import sys\n",
    "import pickle\n",
    "import csv\n",
    "import numpy as np\n",
    "from collections import defaultdict\n",
    "from soyspacing.countbase import RuleDict, CountSpace\n",
    "from soynlp.word import WordExtractor\n",
    "from soynlp.tokenizer import MaxScoreTokenizer\n",
    "from gensim.models import word2vec"
   ]
  },
  {
   "cell_type": "code",
   "execution_count": 2,
   "metadata": {
    "collapsed": true
   },
   "outputs": [],
   "source": [
    "class Sentences:\n",
    "    def __init__(self, fname):\n",
    "        self.fname = fname\n",
    "        self.length = 0\n",
    "        \n",
    "    def __iter__(self):\n",
    "        with open(self.fname, encoding='utf-8') as f:\n",
    "            train = json.load(f)\n",
    "            for i in range(len(train)):\n",
    "                review = train[i]['review']\n",
    "                review = review.strip()\n",
    "                yield review\n",
    "                \n",
    "    def __len__(self):\n",
    "        if self.length == 0:\n",
    "            with open(self.fname, encoding='utf-8') as f:\n",
    "                train = json.load(f)\n",
    "                for i in range(len(train)):\n",
    "                    self.length += 1\n",
    "        return self.length"
   ]
  },
  {
   "cell_type": "code",
   "execution_count": 3,
   "metadata": {},
   "outputs": [
    {
     "name": "stdout",
     "output_type": "stream",
     "text": [
      "training was done. used memory 1.654 Gbse memory 2.007 Gb\n"
     ]
    }
   ],
   "source": [
    "corpus_fname = \"./data/train_data.json\"\n",
    "sentences = Sentences(corpus_fname)\n",
    "\n",
    "\n",
    "\n",
    "word_extractor = WordExtractor(min_cohesion_forward=0.05, \n",
    "                               min_right_branching_entropy=0.0)\n",
    "\n",
    "word_extractor.train(sentences)\n",
    "word_extractor.save(\"./word_extractor\")"
   ]
  },
  {
   "cell_type": "code",
   "execution_count": 22,
   "metadata": {},
   "outputs": [
    {
     "name": "stdout",
     "output_type": "stream",
     "text": [
      "all cohesion probabilities was computed. # words = 294179\n",
      "all branching entropies was computed # words = 337767\n",
      "all accessor variety was computed # words = 337767\n"
     ]
    }
   ],
   "source": [
    "words = word_extractor.extract()"
   ]
  },
  {
   "cell_type": "code",
   "execution_count": 26,
   "metadata": {
    "collapsed": true
   },
   "outputs": [],
   "source": [
    "scores = {}\n",
    "\n",
    "for key, value in words.items():\n",
    "    scores[key] = value.cohesion_forward\n",
    "    \n",
    "tokenizer = MaxScoreTokenizer(scores=scores)"
   ]
  },
  {
   "cell_type": "code",
   "execution_count": 27,
   "metadata": {
    "collapsed": true
   },
   "outputs": [],
   "source": [
    "model_fname = './corpus.model'\n",
    "\n",
    "spacing_model = CountSpace()\n",
    "spacing_model.load_model(model_fname, json_format=False)"
   ]
  },
  {
   "cell_type": "code",
   "execution_count": 28,
   "metadata": {
    "collapsed": true
   },
   "outputs": [],
   "source": [
    "def spacing_tokenizing(sent, spacing_model, tokenizer):\n",
    "    sent_corrected, tags = spacing_model.correct(doc=sent, \n",
    "                                                 verbose=False, \n",
    "                                                 force_abs_threshold=0.3,\n",
    "                                                 nonspace_threshold=-0.3,\n",
    "                                                 space_threshold=0.3,\n",
    "                                                 min_count=10)\n",
    "    \n",
    "    return tokenizer.tokenize(sent_corrected)"
   ]
  },
  {
   "cell_type": "code",
   "execution_count": 41,
   "metadata": {},
   "outputs": [
    {
     "name": "stdout",
     "output_type": "stream",
     "text": [
      "tokenizing... 690000/700000"
     ]
    }
   ],
   "source": [
    "sentences = []\n",
    "\n",
    "with open(\"./data/train_data.json\") as json_file:\n",
    "    train = json.load(json_file)\n",
    "    num_sent = len(train)\n",
    "    for i in range(num_sent):\n",
    "        sentences.append(spacing_tokenizing(train[i]['review'], spacing_model, tokenizer))\n",
    "        if i % 10000 == 0:\n",
    "             sys.stdout.write('\\rtokenizing... {}/{}'.format(i, num_sent))"
   ]
  },
  {
   "cell_type": "code",
   "execution_count": 42,
   "metadata": {
    "collapsed": true
   },
   "outputs": [],
   "source": [
    "f = open('sentences', 'wb')\n",
    "# f = open('sentences', 'rb')\n",
    "pickle.dump(sentences, f)\n",
    "# sentences = pickle.load(f)\n",
    "f.close()"
   ]
  },
  {
   "cell_type": "code",
   "execution_count": 45,
   "metadata": {
    "collapsed": true
   },
   "outputs": [],
   "source": [
    "word_count = defaultdict(lambda: 0)\n",
    "\n",
    "for sentence in sentences:\n",
    "    for word in sentence:\n",
    "        word_count[word] += 1"
   ]
  },
  {
   "cell_type": "code",
   "execution_count": null,
   "metadata": {
    "collapsed": true
   },
   "outputs": [],
   "source": [
    "unk_sentences = []\n",
    "\n",
    "for sentence in sentences:\n",
    "    unk_sentences.append([\"UNK\" if word_count[word] < 5 else word for word in sentence])"
   ]
  },
  {
   "cell_type": "code",
   "execution_count": 2,
   "metadata": {
    "collapsed": true
   },
   "outputs": [],
   "source": [
    "# f = open('unk_sentences', 'wb')\n",
    "f = open('unk_sentences', 'rb')\n",
    "# pickle.dump(unk_sentences, f)\n",
    "unk_sentences = pickle.load(f)\n",
    "f.close()"
   ]
  },
  {
   "cell_type": "code",
   "execution_count": null,
   "metadata": {},
   "outputs": [],
   "source": [
    "import logging\n",
    "\n",
    "logging.basicConfig(format='%(asctime)s : %(levelname)s : %(message)s', level=logging.INFO)\n",
    "\n",
    "print('Training model...')\n",
    "word2vec_model = word2vec.Word2Vec(unk_sentences, size=200, min_count=1, window=10)\n",
    "\n",
    "word2vec_model.init_sims(replace=True)\n",
    "\n",
    "model_name = \"200f_5mw_10ct\"\n",
    "word2vec_model.save(model_name)"
   ]
  },
  {
   "cell_type": "code",
   "execution_count": 3,
   "metadata": {
    "collapsed": true
   },
   "outputs": [],
   "source": [
    "w2v_model = word2vec.Word2Vec.load('200f_5mw_10ct')"
   ]
  },
  {
   "cell_type": "code",
   "execution_count": 4,
   "metadata": {},
   "outputs": [
    {
     "data": {
      "text/plain": [
       "59203"
      ]
     },
     "execution_count": 4,
     "metadata": {},
     "output_type": "execute_result"
    }
   ],
   "source": [
    "vocab_map = defaultdict(lambda: 0)\n",
    "\n",
    "num = 0\n",
    "\n",
    "for sentence in unk_sentences:\n",
    "    for word in sentence:\n",
    "        if not vocab_map[word]:\n",
    "            vocab_map[word] = num\n",
    "            num += 1\n",
    "\n",
    "len(vocab_map)"
   ]
  },
  {
   "cell_type": "code",
   "execution_count": null,
   "metadata": {},
   "outputs": [],
   "source": [
    "vocab_size = len(vocab_map) + 1\n",
    "embedding_dim = 200\n",
    "embedding = np.zeros((vocab_size, embedding_dim))\n",
    "\n",
    "for key, value in vocab_map.items():\n",
    "    embedding[value] = w2v_model[key]"
   ]
  },
  {
   "cell_type": "code",
   "execution_count": 75,
   "metadata": {
    "collapsed": true
   },
   "outputs": [],
   "source": [
    "np.save(\"embedding_matrix\", embedding)"
   ]
  },
  {
   "cell_type": "code",
   "execution_count": 19,
   "metadata": {},
   "outputs": [],
   "source": [
    "x_train = []\n",
    "sequence_length = len(max(unk_sentences, key=len))\n",
    "\n",
    "rating_list = []\n",
    "\n",
    "with open(\"./data/train_data.json\") as json_file:\n",
    "    train = json.load(json_file)\n",
    "    \n",
    "    for i in range(len(train)):\n",
    "        rating_list.append(train[i][\"rating\"])\n",
    "\n",
    "for rating, sentence in zip(rating_list, unk_sentences):\n",
    "    sentence_to_num = [vocab_map[word] for word in sentence]\n",
    "    \n",
    "    if len(sentence_to_num) < sequence_length:\n",
    "        zero_pad = [0] * (sequence_length - len(sentence_to_num))\n",
    "        sentence_to_num = sentence_to_num + zero_pad\n",
    "        \n",
    "    full_row = [rating] + sentence_to_num\n",
    "\n",
    "    x_train.append(full_row)\n",
    "\n",
    "with open(\"train.csv\", \"w\") as csvfile:\n",
    "    writer = csv.writer(csvfile)\n",
    "    for row in x_train:\n",
    "        writer.writerow(row)"
   ]
  }
 ],
 "metadata": {
  "kernelspec": {
   "display_name": "Python 3",
   "language": "python",
   "name": "python3"
  },
  "language_info": {
   "codemirror_mode": {
    "name": "ipython",
    "version": 3
   },
   "file_extension": ".py",
   "mimetype": "text/x-python",
   "name": "python",
   "nbconvert_exporter": "python",
   "pygments_lexer": "ipython3",
   "version": "3.6.3"
  }
 },
 "nbformat": 4,
 "nbformat_minor": 2
}
